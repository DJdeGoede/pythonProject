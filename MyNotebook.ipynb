{
 "cells": [
  {
   "attachments": {},
   "cell_type": "markdown",
   "metadata": {},
   "source": [
    "Below a fraction: $ \\;\\; \\frac{2}{3}$"
   ]
  }
 ],
 "metadata": {
  "kernelspec": {
   "display_name": ".venv",
   "language": "python",
   "name": "python3"
  },
  "language_info": {
   "name": "python",
   "version": "3.11.0"
  },
  "orig_nbformat": 4,
  "vscode": {
   "interpreter": {
    "hash": "bf8821608c82197998535bc6d79e8f5e658a41db75f34c093875cc3188fc35d0"
   }
  }
 },
 "nbformat": 4,
 "nbformat_minor": 2
}
